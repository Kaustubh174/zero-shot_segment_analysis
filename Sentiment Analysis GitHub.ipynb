{
 "cells": [
  {
   "cell_type": "markdown",
   "id": "4c3ca63d",
   "metadata": {},
   "source": [
    "# Zero-shot Sentiment Analysis with OpenAI's GPT-3.5-turbo\n",
    "\n",
    "### First we need to import the required libraries and the api key"
   ]
  },
  {
   "cell_type": "code",
   "execution_count": 1,
   "id": "2a98e93a",
   "metadata": {},
   "outputs": [],
   "source": [
    "import openai\n",
    "import os"
   ]
  },
  {
   "cell_type": "code",
   "execution_count": 2,
   "id": "8e876b73",
   "metadata": {},
   "outputs": [],
   "source": [
    "os.environ['OPENAI_API_KEY'] = 'Your api key'\n",
    "openai.api_key = os.getenv('OPENAI_API_KEY')"
   ]
  },
  {
   "cell_type": "markdown",
   "id": "b473a688",
   "metadata": {},
   "source": [
    "### Now we define a class 'gpt_classify_sentiment(prompt, emotions)'\n",
    "\n",
    "Over here prompt will the user prompt that will be used to classify the emotion and emotions will the list of emotions to be classified\n"
   ]
  },
  {
   "cell_type": "code",
   "execution_count": 3,
   "id": "dbe4b78c",
   "metadata": {},
   "outputs": [],
   "source": [
    "from openai import OpenAI\n",
    "client = OpenAI()"
   ]
  },
  {
   "cell_type": "code",
   "execution_count": 4,
   "id": "00cdad72",
   "metadata": {},
   "outputs": [
    {
     "name": "stdout",
     "output_type": "stream",
     "text": [
      "Enter your prompt (or type 'exit' to quit): AI will take over the world\n",
      "very concerned\n",
      "Enter your prompt (or type 'exit' to quit): I lost my phone\n",
      "very sad\n",
      "Enter your prompt (or type 'exit' to quit): I won the match\n",
      "very happy\n",
      "Enter your prompt (or type 'exit' to quit): I just want to sleep after this\n",
      "tired\n",
      "Enter your prompt (or type 'exit' to quit): exit\n"
     ]
    }
   ],
   "source": [
    "def gpt_classify_sentiment(prompt, emotions):\n",
    "    system_prompt = f'''\n",
    "    you are an emotionally intelligent assistant.\n",
    "    Classify the sentiment of the user's text with ONLY ONE OF THE FOLLOWING EMOTIONS: {emotions}.\n",
    "    After classifying the text, respond with the emotion ONLY.\n",
    "    '''\n",
    "    response = client.chat.completions.create(\n",
    "        model='gpt-3.5-turbo',\n",
    "        messages=[\n",
    "            {'role': 'system', 'content': system_prompt},\n",
    "            {'role': 'user', 'content': prompt}\n",
    "        ],\n",
    "        max_tokens=20,\n",
    "        temperature=0\n",
    "    )\n",
    "    r = response.choices[0].message.content\n",
    "    if r == '':\n",
    "        r = 'N/A'\n",
    "    return r\n",
    "\n",
    "emotions = \"happy, very happy, sad, very sad, angry, very angry, tired, very tired, mad, very mad\"\n",
    "\n",
    "while True:\n",
    "    prompt = input(\"Enter your prompt (or type 'exit' to quit): \")\n",
    "    if prompt.lower() == 'exit':\n",
    "        break\n",
    "    print(gpt_classify_sentiment(prompt, emotions))\n"
   ]
  },
  {
   "cell_type": "code",
   "execution_count": null,
   "id": "4faec03c",
   "metadata": {},
   "outputs": [],
   "source": []
  }
 ],
 "metadata": {
  "kernelspec": {
   "display_name": "Python 3 (ipykernel)",
   "language": "python",
   "name": "python3"
  },
  "language_info": {
   "codemirror_mode": {
    "name": "ipython",
    "version": 3
   },
   "file_extension": ".py",
   "mimetype": "text/x-python",
   "name": "python",
   "nbconvert_exporter": "python",
   "pygments_lexer": "ipython3",
   "version": "3.11.4"
  }
 },
 "nbformat": 4,
 "nbformat_minor": 5
}
